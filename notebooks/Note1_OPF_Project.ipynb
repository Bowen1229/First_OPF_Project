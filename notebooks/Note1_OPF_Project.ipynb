{
 "cells": [
  {
   "cell_type": "markdown",
   "id": "1fc03525",
   "metadata": {},
   "source": [
    "# 最优潮流分析：第二周学习笔记\n",
    "本周的核心任务聚焦在最优潮流OPF问题的理解与编程实现，下面是本周项目的详细笔记\n",
    "---\n",
    "\n",
    "## 1. 电力系统导纳矩阵 Ybus 构建\n",
    "\n",
    "### 理论知识：\n",
    "- 电力网络由母线与支路组成，可用导纳矩阵 Ybus 表示其拓扑与电气特性。\n",
    "- Ybus 是对称复数矩阵，反映节点之间导纳关系。\n",
    "- 公式构建：\n",
    "  $$\n",
    "  Y_{ii} = \\sum_{j \\ne i} y_{ij}, \\quad Y_{ij} = -y_{ij}\n",
    "  $$\n",
    "\n",
    "### 示例代码：\n",
    "\n"
   ]
  },
  {
   "cell_type": "code",
   "execution_count": 15,
   "id": "eaa7c130",
   "metadata": {},
   "outputs": [],
   "source": [
    "import json\n",
    "import numpy as np\n",
    "\n",
    "def load_case(filepath):\n",
    "    with open(filepath, 'r') as f:\n",
    "        return json.load(f)\n",
    "\n",
    "def build_Ybus(case):\n",
    "    n = len(case[\"buses\"])\n",
    "    Y = np.zeros((n, n), dtype=complex)\n",
    "    for br in case[\"branches\"]:\n",
    "        i, j = br[\"from\"]-1, br[\"to\"]-1\n",
    "        y = 1 / complex(br[\"r\"], br[\"x\"])\n",
    "        Y[i, i] += y\n",
    "        Y[j, j] += y\n",
    "        Y[i, j] -= y\n",
    "        Y[j, i] -= y\n",
    "    return Y"
   ]
  },
  {
   "cell_type": "markdown",
   "id": "560e39b0",
   "metadata": {},
   "source": [
    "## 2. 功率不平衡量计算（power_mismatch.py）\n",
    "\n",
    "#### 不平衡量定义：\n",
    "  - 我们希望系统中每个节点满足功率平衡： $𝑃_{注入} = 𝑃_{需求}$ ,$𝑄_{注入} = 𝑄_{需求}$，而一开始我们只能猜电压（初始值），算出来的功率不一定刚好满足需求。\n",
    "  于是我们定义不平衡量：\n",
    "\n",
    "$$\n",
    "\\Delta P_i = 𝑃_i^{指定} − 𝑃_𝑖^{计算}, \\Delta Q_i = Q_i^{指定} − Q_𝑖^{计算}\n",
    "$$\n",
    "\n",
    "\n",
    "  - 如果 $\\Delta P$、$\\Delta Q$ 接近 0，说明系统满足功率平衡；如果不为 0，就说明当前电压估计不对，需要修正。\n",
    "\n",
    "- 若 $\\Delta P_i$ 和 $\\Delta Q_i$ 非零，表示电网尚未达到平衡状态；\n",
    "- 节点功率：$$S_i = P_i + jQ_i = V_i \\sum_{j=1}^n V_j^* Y_{ij}^*$$\n",
    "- 功率不平衡量计算是牛顿法迭代的核心。\n",
    "\n",
    "### 代码实现："
   ]
  },
  {
   "cell_type": "code",
   "execution_count": 16,
   "id": "5d9fa6f6",
   "metadata": {},
   "outputs": [],
   "source": [
    "def calculate_power_mismatch(Ybus, V, theta, P_spec, Q_spec, bus_types):\n",
    "    n = len(V)\n",
    "    P_calc = np.zeros(n)\n",
    "    Q_calc = np.zeros(n)\n",
    "    for i in range(n):\n",
    "        for j in range(n):\n",
    "            Y = Ybus[i, j]\n",
    "            Vi, Vj = V[i], V[j]\n",
    "            angle = theta[i] - theta[j] - np.angle(Y)\n",
    "            P_calc[i] += Vi * Vj * abs(Y) * np.cos(angle)\n",
    "            Q_calc[i] -= Vi * Vj * abs(Y) * np.sin(angle)\n",
    "    dP = P_spec - P_calc\n",
    "    dQ = Q_spec - Q_calc\n",
    "    return dP, dQ\n"
   ]
  },
  {
   "cell_type": "markdown",
   "id": "9ab46011",
   "metadata": {},
   "source": [
    "## 3. 牛顿-拉夫逊潮流求解器（newton_solver.py）\n",
    "### 理论知识:\n",
    "-  $J$ 构建线性化模型：\n",
    "$$\n",
    "\\Delta X = -j^{-1}F(X)\n",
    "$$\n",
    "-  逐步迭代修正 $|V|$ 和 $\\theta$ 直到误差收敛；\n",
    "\n",
    "- 常见收敛标准：$\\max(|\\Delta P|, |\\Delta Q|) < 10^{-6}$；\n",
    "\n",
    "- 最终输出每个母线的 $|V|$ 和 $\\theta$。\n",
    "\n",
    "### 代码实现："
   ]
  },
  {
   "cell_type": "code",
   "execution_count": 17,
   "id": "addcdda1",
   "metadata": {},
   "outputs": [],
   "source": [
    "def solve_powerflow(Ybus, P_spec, Q_spec, V0, theta0, bus_types, tol=1e-6):\n",
    "    V, theta = V0.copy(), theta0.copy()\n",
    "    for iteration in range(20):\n",
    "        dP, dQ = calculate_power_mismatch(Ybus, V, theta, P_spec, Q_spec, bus_types)\n",
    "        J = build_jacobian(Ybus, V, theta, bus_types)\n",
    "        mismatch = np.concatenate((dP, dQ))\n",
    "        if np.max(np.abs(mismatch)) < tol:\n",
    "            break\n",
    "        delta = np.linalg.solve(J, mismatch)\n",
    "        theta += delta[:len(theta)]\n",
    "        V += delta[len(theta):]\n",
    "    return V, theta\n"
   ]
  },
  {
   "cell_type": "markdown",
   "id": "9dc2580d",
   "metadata": {},
   "source": [
    "## 4. 潮流结果可视化与结构重构（visualize_powerflow.py）\n",
    "### 理论知识：\n",
    "- 电网结果可通过图形或表格方式展示电压分布；\n",
    "- 为 OPF 构建接口（如生成带发电机参数的 json）；\n",
    "- 支持格式转换如 JSON → numpy → Gurobi。\n",
    "### 实现过程：\n",
    "- 电压幅值可视化：plot_voltage_magnitude()：\n",
    "- 结构重构与生成 OPF 数据：\n",
    "    - 通过读取已有网络结构文件3bus.json，添加发电机信息（如出力上下限、成本），并且保存为新的 JSON 文件用于构造 OPF 模型的输入数据。\n",
    "\n"
   ]
  },
  {
   "cell_type": "code",
   "execution_count": null,
   "id": "86103d03",
   "metadata": {},
   "outputs": [],
   "source": [
    "def add_generators_to_case(input_file, output_file, generators):\n",
    "    \"\"\"\n",
    "    向已有的电网数据中添加发电机信息，并保存为新的 JSON 文件\n",
    "    参数:\n",
    "        input_file: 原始 JSON 文件路径\n",
    "        output_file: 修改后输出文件路径\n",
    "        generators: 发电机信息列表，如：\n",
    "            [{\"bus\": 1, \"pmin\": 0, \"pmax\": 6, \"cost\": 10}]\n",
    "    \"\"\"\n",
    "    with open(input_file, 'r') as f:\n",
    "        case = json.load(f)\n",
    "\n",
    "    case[\"generators\"] = generators\n",
    "\n",
    "    with open(output_file, 'w') as f:\n",
    "        json.dump(case, f, indent=2)\n",
    "\n",
    "    print(f\"已生成带发电机的数据文件：{output_file}\")"
   ]
  },
  {
   "cell_type": "markdown",
   "id": "22eefd88",
   "metadata": {},
   "source": [
    "### JSON文件结构示例："
   ]
  },
  {
   "cell_type": "code",
   "execution_count": 18,
   "id": "f86548d1",
   "metadata": {},
   "outputs": [
    {
     "data": {
      "text/plain": [
       "{'buses': [{'id': 1, 'type': 'PV'}, {'id': 2, 'type': 'PQ'}],\n",
       " 'branches': [{'from': 1, 'to': 2, 'r': 0.0, 'x': 0.1}],\n",
       " 'generators': [{'bus': 1, 'pmin': 0, 'pmax': 6, 'cost': 10}]}"
      ]
     },
     "execution_count": 18,
     "metadata": {},
     "output_type": "execute_result"
    }
   ],
   "source": [
    "{\n",
    "  \"buses\": [{\"id\": 1, \"type\": \"PV\"}, {\"id\": 2, \"type\": \"PQ\"}],\n",
    "  \"branches\": [{\"from\": 1, \"to\": 2, \"r\": 0.0, \"x\": 0.1}],\n",
    "  \"generators\": [{\"bus\": 1, \"pmin\": 0, \"pmax\": 6, \"cost\": 10}]\n",
    "}"
   ]
  },
  {
   "cell_type": "markdown",
   "id": "a512208b",
   "metadata": {},
   "source": [
    "## 5. 最优潮流线性建模（opf_linear.py）\n",
    "### 理论知识:\n",
    "OPF = 优化发电计划（发电费用最小） + 无功电源的最优调度（网损最低）；\n",
    "\n",
    "目标函数：总发电成本最小\n",
    "\n",
    "$\\min\\Sigma_i {C_i P_i}$\n",
    "\n",
    "约束包括：\n",
    "- 功率平衡（节点功率方程）；\n",
    "- 发电机出力上下限；\n",
    "- 电压幅值范围。\n",
    "\n",
    "### 代码框架："
   ]
  },
  {
   "cell_type": "code",
   "execution_count": null,
   "id": "c7ab72c1",
   "metadata": {},
   "outputs": [
    {
     "name": "stdout",
     "output_type": "stream",
     "text": [
      "Gurobi Optimizer version 12.0.2 build v12.0.2rc0 (win64 - Windows 11.0 (26100.2))\n",
      "\n",
      "CPU model: AMD Ryzen 9 7945HX with Radeon Graphics, instruction set [SSE2|AVX|AVX2|AVX512]\n",
      "Thread count: 16 physical cores, 32 logical processors, using up to 32 threads\n",
      "\n",
      "Optimize a model with 1 rows, 2 columns and 2 nonzeros\n",
      "Model fingerprint: 0xdfcb56b7\n",
      "Coefficient statistics:\n",
      "  Matrix range     [1e+00, 1e+00]\n",
      "  Objective range  [1e-02, 3e-02]\n",
      "  Bounds range     [4e+00, 6e+00]\n",
      "  RHS range        [8e+00, 8e+00]\n",
      "Presolve removed 1 rows and 2 columns\n",
      "Presolve time: 0.00s\n",
      "Presolve: All rows and columns removed\n",
      "Iteration    Objective       Primal Inf.    Dual Inf.      Time\n",
      "       0    1.5000000e-01   0.000000e+00   0.000000e+00      0s\n",
      "\n",
      "Solved in 0 iterations and 0.00 seconds (0.00 work units)\n",
      "Optimal objective  1.500000000e-01\n",
      "Pg[0] = 6.00 MW\n",
      "Pg[1] = 2.00 MW\n",
      "Optimal cost: 0.1500 $/h\n"
     ]
    }
   ],
   "source": [
    "import gurobipy as gp\n",
    "\n",
    "\n",
    "n_gen = 2  # 设置发电机数量\n",
    "pmin = [0, 0]  #每台发电机的最小出力（单位均为MW），第0台和第1台发电机都可以从0开始发电\n",
    "pmax = [6, 4]  # 每台发电机的最大出力\n",
    "cost = [0.015, 0.03]  # 每台发电机的单位发电成本（单位：$/kWh），这是线性成本函数中的系数，即每发一度电的成本\n",
    "\n",
    "\n",
    "load = 8  #设置系统总负荷需求，总发电量必须满足这个需求\n",
    "\n",
    "# 创建 Gurobi 优化模型，名为opf\n",
    "model = gp.Model(\"opf\")\n",
    "\n",
    "# 创建变量 Pg[i] 表示第 i 台发电机的出力\n",
    "Pg = model.addVars(n_gen, lb=pmin, ub=pmax, name=\"Pg\")\n",
    "\n",
    "# 设置目标函数：总发电成本最小化，使用 gp.quicksum 表示线性加权求和\n",
    "model.setObjective(\n",
    "    gp.quicksum(cost[i] * Pg[i] for i in range(n_gen)),\n",
    "    gp.GRB.MINIMIZE  # 指定优化目标是“最小化”\n",
    ")\n",
    "\n",
    "# 添加功率平衡约束：所有发电机出力之和必须等于负荷：Pg[0] + Pg[1] = 8\n",
    "model.addConstr(\n",
    "    gp.quicksum(Pg[i] for i in range(n_gen)) == load,\n",
    "    name=\"PowerBalance\"\n",
    ")\n",
    "\n",
    "\n",
    "model.optimize() # 启动求解器\n",
    "\n",
    "# 打印求解结果，即每台发电机的出力\n",
    "for i in range(n_gen):\n",
    "    print(f\"Pg[{i}] = {Pg[i].X:.2f} MW\")  # 用.X 获取变量的最优值\n",
    "\n",
    "# 打印最终的最优目标函数值，即最小发电总成本\n",
    "print(f\"Optimal cost: {model.ObjVal:.4f} $/h\")  # 用 .ObjVal 获取目标函数值\n"
   ]
  },
  {
   "cell_type": "markdown",
   "id": "cfe4cd27",
   "metadata": {},
   "source": [
    "### 总结：本周任务从 Ybus 构建到 OPF 求解，涵盖建模、计算与优化三个层次。每个模块均实现对应函数，便于组合或重构为完整项目框架。"
   ]
  }
 ],
 "metadata": {
  "kernelspec": {
   "display_name": "pytorch",
   "language": "python",
   "name": "python3"
  },
  "language_info": {
   "codemirror_mode": {
    "name": "ipython",
    "version": 3
   },
   "file_extension": ".py",
   "mimetype": "text/x-python",
   "name": "python",
   "nbconvert_exporter": "python",
   "pygments_lexer": "ipython3",
   "version": "3.12.2"
  }
 },
 "nbformat": 4,
 "nbformat_minor": 5
}
